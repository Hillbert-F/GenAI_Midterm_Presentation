{
 "cells": [
  {
   "cell_type": "code",
   "execution_count": 1,
   "metadata": {},
   "outputs": [
    {
     "name": "stderr",
     "output_type": "stream",
     "text": [
      "c:\\Users\\Hillbert\\AppData\\Local\\Programs\\Python\\Python312\\Lib\\site-packages\\transformers\\tokenization_utils_base.py:1601: FutureWarning: `clean_up_tokenization_spaces` was not set. It will be set to `True` by default. This behavior will be depracted in transformers v4.45, and will be then set to `False` by default. For more details check this issue: https://github.com/huggingface/transformers/issues/31884\n",
      "  warnings.warn(\n"
     ]
    }
   ],
   "source": [
    "from transformers import AutoModelForCausalLM, AutoTokenizer\n",
    "import torch\n",
    "\n",
    "# Load the expert and amateur models and tokenizer\n",
    "expert_model = AutoModelForCausalLM.from_pretrained(\"gpt2-large\")\n",
    "amateur_model = AutoModelForCausalLM.from_pretrained(\"gpt2\")\n",
    "tokenizer = AutoTokenizer.from_pretrained(\"gpt2\")"
   ]
  },
  {
   "cell_type": "code",
   "execution_count": 2,
   "metadata": {},
   "outputs": [],
   "source": [
    "alpha = 0.1  # Masking threshold\n",
    "beta = 0.5   # Contrastive weighting factor"
   ]
  },
  {
   "cell_type": "code",
   "execution_count": 3,
   "metadata": {},
   "outputs": [],
   "source": [
    "def get_logits(text, model, tokenizer):\n",
    "    inputs = tokenizer(text, return_tensors=\"pt\")\n",
    "    with torch.no_grad():\n",
    "        outputs = model(**inputs)\n",
    "    return outputs.logits[0, -1]  # Get logits for the last token"
   ]
  },
  {
   "cell_type": "code",
   "execution_count": null,
   "metadata": {},
   "outputs": [],
   "source": [
    "import torch.nn.functional as F\n",
    "\n",
    "def contrastive_decoding(expert_logits, amateur_logits, alpha, beta):\n",
    "    # Algorithm 2 in the original paper\n",
    "    cutoff = torch.log(torch.tensor(alpha)) + expert_logits.max(dim=-1, keepdim=True).values\n",
    "    \n",
    "    # Compute the contrastive difference with weighted logits\n",
    "    diffs = (1 + beta) * expert_logits - beta * amateur_logits\n",
    "    \n",
    "    # Apply masking to filter out tokens below the cutoff\n",
    "    cd_logits = diffs.masked_fill(expert_logits < cutoff, float(\"-inf\"))\n",
    "    \n",
    "    return cd_logits"
   ]
  },
  {
   "cell_type": "code",
   "execution_count": 5,
   "metadata": {},
   "outputs": [
    {
     "name": "stdout",
     "output_type": "stream",
     "text": [
      "Predicted token:  University\n"
     ]
    }
   ],
   "source": [
    "prompt = \"Welcome to the Data Science Institute at Vanderbilt\"\n",
    "inputs = tokenizer(prompt, return_tensors=\"pt\")\n",
    "\n",
    "# Generate logits from both expert and amateur models\n",
    "expert_logits = get_logits(prompt, expert_model, tokenizer)\n",
    "amateur_logits = get_logits(prompt, amateur_model, tokenizer)\n",
    "\n",
    "# Apply Contrastive Decoding\n",
    "cd_logits = contrastive_decoding(expert_logits, amateur_logits, alpha, beta)\n",
    "\n",
    "# Sample the token with the highest contrastive logit\n",
    "predicted_token_id = torch.argmax(cd_logits).item()\n",
    "predicted_token = tokenizer.decode(predicted_token_id)\n",
    "\n",
    "print(\"Predicted token:\", predicted_token)"
   ]
  }
 ],
 "metadata": {
  "kernelspec": {
   "display_name": "Python 3",
   "language": "python",
   "name": "python3"
  },
  "language_info": {
   "codemirror_mode": {
    "name": "ipython",
    "version": 3
   },
   "file_extension": ".py",
   "mimetype": "text/x-python",
   "name": "python",
   "nbconvert_exporter": "python",
   "pygments_lexer": "ipython3",
   "version": "3.12.0"
  }
 },
 "nbformat": 4,
 "nbformat_minor": 2
}
